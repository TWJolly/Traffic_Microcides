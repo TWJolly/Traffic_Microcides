{
 "cells": [
  {
   "cell_type": "markdown",
   "metadata": {},
   "source": [
    "# Estimating the Microcides committed by different types of road user in the UK using STATS19 data 2005-2014"
   ]
  },
  {
   "cell_type": "markdown",
   "metadata": {},
   "source": [
    "This notebook takes traffic volume and accident data from the DfT and estimates the number of microcides that are attributable to a variety of vehicle types. Please see this blog article (jollydata.co.uk/microcides) regarding microcides.\n",
    "\n",
    "These are essentially estimates of the marginal increase in deaths. We want to be able to say, for example, how much the risk to others changes if you cycle instead of drive a given distance. On this basis I tried to attribute ‘blame’ for each death in each accident in the data. \n",
    "\n",
    "A vehicle should be ‘blamed’ to the degree to which its absence from the road would have prevented the deaths. Given the complex and diverse ways in which road accidents are caused I relied on a heuristic to come up with the estimates in Table 1.\n",
    "For single vehicle accidents no one is blamed (risk to oneself is ignored as these are not microcides).\n",
    "In two vehicle crashes each death is blamed on the other vehicle. \n",
    "For each death in larger accidents the largest of the other vehicle types involved in the accident are all blamed. \n",
    "\n",
    "The 'Vehicle_Encoding' dictionary variable in this notebook (code cell 6) defines the size ordering.\n",
    "\n",
    "Examples of multi-vehicle crashes:\n",
    "1.\tIf a crash involving two bicycles and a car occurs in which one cyclist dies. The driver is blamed but the other cyclist is not. \n",
    "2.\tIf an accident involving a car, a pedestrian and a HGV results in the deaths of the HGV driver and the pedestrian. The HGV is blamed for the pedestrian’s death and car is blamed for the HGV driver’s death.\n",
    "3.\tIf an accident involving two cars and a pedestrian results in the death of the pedestrian, both cars are blamed.\n",
    "\n",
    "Given that an accident's causes will become harder to identify as they become larger I needed to ignore accidents above a given size for the heuristic to hold. See the microcide_exploration notebook for the justification for using 4 as the maximum accident size."
   ]
  },
  {
   "cell_type": "code",
   "execution_count": 1,
   "metadata": {
    "collapsed": false
   },
   "outputs": [],
   "source": [
    "import pandas as pd\n",
    "import requests, zipfile\n",
    "import io\n",
    "from numpy import where\n",
    "import datetime"
   ]
  },
  {
   "cell_type": "code",
   "execution_count": 2,
   "metadata": {
    "collapsed": false
   },
   "outputs": [],
   "source": [
    "\"\"\"The links to the STATS19 data and 2 Traffic Volume Files\"\"\"\n",
    "\n",
    "Offline = False\n",
    "\n",
    "if Offline:\n",
    "    STATS19 = \"http://localhost:8888/files/Stats19_Data_2005-2014.zip\"\n",
    "    Traffic_Volume = \"http://localhost:8888/files/tra0201.xlsx\"\n",
    "    Cycle_Volume = \"http://localhost:8888/files/tra0401.xlsx\"\n",
    "else:\n",
    "    STATS19 = \"http://data.dft.gov.uk.s3.amazonaws.com/road-accidents-safety-data/Stats19_Data_2005-2014.zip\"\n",
    "    Traffic_Volume = \"https://www.gov.uk/government/uploads/system/uploads/attachment_data/file/498684/tra0201.xls\"\n",
    "    Cycle_Volume = \"https://www.gov.uk/government/uploads/system/uploads/attachment_data/file/428727/tra0401.xls\""
   ]
  },
  {
   "cell_type": "code",
   "execution_count": 3,
   "metadata": {
    "collapsed": false
   },
   "outputs": [],
   "source": [
    "\"\"\"Extracts and loads the 3 Stats 19 tables and extracts the relevent columns\"\"\"\n",
    "\n",
    "stats19_file = zipfile.ZipFile(io.BytesIO(requests.get(STATS19).content))\n",
    "Accidents = pd.read_csv(stats19_file.open('Accidents0514.csv'), \n",
    "                       index_col = 0, \n",
    "                       usecols = [0, 6, 7])\n",
    "Vehicles = pd.read_csv(stats19_file.open('Vehicles0514.csv'),\n",
    "                        usecols = [0, 1, 2])\n",
    "Casualties = pd.read_csv(stats19_file.open('Casualties0514.csv'),\n",
    "                          usecols = [0, 1, 3, 7])"
   ]
  },
  {
   "cell_type": "markdown",
   "metadata": {},
   "source": [
    "We only care about fatalites so the Casualties and Accidents can both be filtered"
   ]
  },
  {
   "cell_type": "code",
   "execution_count": 4,
   "metadata": {
    "collapsed": false
   },
   "outputs": [],
   "source": [
    "Maximum_Vehicles = 4 # Maximum accident size considered\n",
    "Minimum_Vehicles = 0 # Minimum accident size considered\n",
    "\n",
    "Include_Pedestrians = True # If False, the microcides from pedestrans are ignored\n",
    "\n",
    "Deaths = Casualties[Casualties['Casualty_Severity'] == 1]\n",
    "if not Include_Pedestrians:\n",
    "    Deaths = Casualties[Casualties['Casualty_Class'] != 3]\n",
    "    \n",
    "Fatal_Accidents = Accidents[Accidents['Accident_Severity'] == 1]\n",
    "Fatal_Small_Accidents = Fatal_Accidents[(Fatal_Accidents['Number_of_Vehicles'] <= Maximum_Vehicles) & \n",
    "                                        (Fatal_Accidents['Number_of_Vehicles'] >= Minimum_Vehicles)]"
   ]
  },
  {
   "cell_type": "markdown",
   "metadata": {},
   "source": [
    "Next we produce a dataframe that summerises the outcome of each accident in terms of the vehicles involved and the deaths in those vehicles."
   ]
  },
  {
   "cell_type": "code",
   "execution_count": 5,
   "metadata": {
    "collapsed": false,
    "scrolled": true
   },
   "outputs": [
    {
     "name": "stderr",
     "output_type": "stream",
     "text": [
      "C:\\Miniconda3\\envs\\jollydata\\lib\\site-packages\\pandas\\core\\indexing.py:426: SettingWithCopyWarning: \n",
      "A value is trying to be set on a copy of a slice from a DataFrame.\n",
      "Try using .loc[row_indexer,col_indexer] = value instead\n",
      "\n",
      "See the caveats in the documentation: http://pandas.pydata.org/pandas-docs/stable/indexing.html#indexing-view-versus-copy\n",
      "  self.obj[item] = s\n"
     ]
    }
   ],
   "source": [
    "Deaths.loc[Deaths['Casualty_Class'] == 3, 'Vehicle_Reference'] = 0 # Removes pedestrians vehicle\n",
    "Grouped_Deaths = Deaths.groupby(by = [Deaths.columns[0], 'Vehicle_Reference']).sum()\n",
    "\n",
    "\"\"\"'Deaths.columns[0]' is used throughout this notebook to refer to 'Accident_Index' which pandas had an issue with.\"\"\"\n",
    "\n",
    "Grouped_Deaths.drop('Casualty_Class', axis=1, inplace=True)\n",
    "Grouped_Deaths.columns = ['Fatalities']\n",
    "\n",
    "Fatality_Vehicles = Fatal_Small_Accidents.merge(Vehicles, how = 'left', left_index = \n",
    "                                          True, right_on = Deaths.columns[0])\n",
    "\n",
    "\"\"\"Left merging fatal accidents with vehicles creates a data frame with one row for each vehicle in a fatal accident\"\"\"\n",
    "\n",
    "Fatality_Vehicles = Fatality_Vehicles[[Deaths.columns[0], 'Vehicle_Reference', 'Vehicle_Type']] # Irrelevnt columns removed\n",
    "\n",
    "\"\"\"Outer merging involved vehicles accidents with deaths grouped by vehicle creates a data frame with one row for each vehicle \n",
    "(or group of pedestrians) in a fatal accident with a column for the number of fatalies in each\"\"\"\n",
    "\n",
    "All_Microcide_Vehicles = Fatality_Vehicles.merge(Grouped_Deaths, how = 'outer', \n",
    "                                                 left_on = [Deaths.columns[0],'Vehicle_Reference'],\n",
    "                                                 right_index = True)\n",
    "\n",
    "\"\"\"The line below gives pedestrians a vehicle type of 0 and gives vehicles in which noone died a fatality totol of 0\"\"\"\n",
    "\n",
    "All_Microcide_Vehicles.fillna(0, inplace = True) "
   ]
  },
  {
   "cell_type": "markdown",
   "metadata": {},
   "source": [
    "The vehicle types are reassigned based on the vehicle types used by the DfT in their traffic volume and road death tables.\n",
    "The number codes used also double as a sorting mechanism where by 'smaller' vehicles are assigned lower numbers."
   ]
  },
  {
   "cell_type": "code",
   "execution_count": 6,
   "metadata": {
    "collapsed": true
   },
   "outputs": [],
   "source": [
    "Vehicle_Encoding = {\n",
    "1: (16, 22),             # Horses and Mobility Scooters\n",
    "2: (1,),                 # Pedal Cycle\n",
    "3: (2, 3, 4 ,5, 23, 97), # Mopeds and Motorcycle \n",
    "4: (9, 8, 19, 20),       # Cars and taxis\n",
    "5: (19,),                # Vans \n",
    "6: (17,),                # Agricultural Vehicles\n",
    "7: (18,),                # Trams\n",
    "8: (10, 11),             # Buses and Coaches\n",
    "9: (20, 21, 98)          # HGVs\n",
    "}"
   ]
  },
  {
   "cell_type": "code",
   "execution_count": 7,
   "metadata": {
    "collapsed": false
   },
   "outputs": [],
   "source": [
    "All_Microcide_Vehicles['Vehicle_Group'] = 0\n",
    "for k, v in Vehicle_Encoding.items():\n",
    "    All_Microcide_Vehicles.loc[All_Microcide_Vehicles['Vehicle_Type'].isin(v), 'Vehicle_Group'] = k"
   ]
  },
  {
   "cell_type": "markdown",
   "metadata": {},
   "source": [
    "The cell below creates a series of every 'type' of accident. An accident is identified by the vehicles involved and the number of deaths in each. So a 2 vehicle, car and motorcycle accident where the motorcyclist dies is different from one in which one car occupant dies and they are both different from one in which two car occupants die etc.."
   ]
  },
  {
   "cell_type": "code",
   "execution_count": 8,
   "metadata": {
    "collapsed": false
   },
   "outputs": [],
   "source": [
    "All_Microcide_Vehicles.sort_values(by = [Deaths.columns[0], 'Vehicle_Group', 'Fatalities'], inplace = True)\n",
    "Accident_Group = All_Microcide_Vehicles.groupby(Deaths.columns[0]).agg(lambda x: tuple(x))\n",
    "Accident_Group['Accident_Type'] = Accident_Group[['Vehicle_Group', 'Fatalities']].apply(tuple, axis = 1)\n",
    "All_Accident_Types = Accident_Group[['Accident_Type']]\n",
    "Accident_Type_Counts = All_Accident_Types['Accident_Type'].value_counts()"
   ]
  },
  {
   "cell_type": "markdown",
   "metadata": {},
   "source": [
    "The function below does the 'blaming'. It iterates over the types of accident and decides how many of the deaths involved can be attributed to each of the vehicle. For each death in an accident the 'largest' of the other vehicles is given the blame, if there are more than one then they are both blamed (For two vehicle accidents this is irrevelant as there is only ever one 'other vehicle'). Size ordering is determined by the vehicle encoding number. \n",
    "\n",
    "The validity of this heuristic is unclear but it makes intuitive sense, and is somewhat corroborated by the frequncey of accident types. Looking at 2 vehicle accidents in Accident_Type_Counts smaller vehicles appear to always come off worse in terms of the number of deaths."
   ]
  },
  {
   "cell_type": "code",
   "execution_count": 9,
   "metadata": {
    "collapsed": false
   },
   "outputs": [],
   "source": [
    "Caused_Fatalities = {} # A dictionary of deaths by vehicle. The keys are the vehicle types and values are running totals.\n",
    "for n in range(0,10):\n",
    "    Caused_Fatalities[n] = 0\n",
    "\n",
    "def Calculate_Microcides(Accident_Type, Number):\n",
    "    vehicles = Accident_Type[0]\n",
    "    if len(vehicles) < 2: #Accidents with fewer than 2 vehicles are not considered.\n",
    "        return None\n",
    "    deaths = Accident_Type[1]\n",
    "    for i, death in enumerate(deaths):\n",
    "        if death > 0:\n",
    "            other_vehicles = vehicles[:i]+vehicles[i+1:]\n",
    "            Caused_Fatalities[max(other_vehicles)] += other_vehicles.count(max(other_vehicles))*death*Number\n",
    "\n",
    "for acc_type, count in Accident_Type_Counts.iteritems():\n",
    "    Calculate_Microcides(acc_type, count)"
   ]
  },
  {
   "cell_type": "markdown",
   "metadata": {},
   "source": [
    "The cell below reads in the traffic volume Excel files and sums the relevent rows (2005 - 2014). The units are billions of kilometers."
   ]
  },
  {
   "cell_type": "code",
   "execution_count": 10,
   "metadata": {
    "collapsed": false
   },
   "outputs": [],
   "source": [
    "Traffic_Volume = pd.read_excel(Traffic_Volume, sheet_name = \"TRA0201\", skiprows = list(range(0,6)), index_col = 0)\n",
    "Cycle_Volume = pd.read_excel(Cycle_Volume, sheet_name = \"TRA0401\", skiprows = list(range(0,5)), index_col = 0)\n",
    "Ten_Year_Volume = {}\n",
    "for col in list(Traffic_Volume.columns.values)[1:6]:\n",
    "    Ten_Year_Volume[col] = sum(Traffic_Volume[col][56:66]) #Selected rows refer to 2005 to 2014\n",
    "Ten_Year_Volume['Pedal Cycles'] = sum(Cycle_Volume['Kilometres'][56:66])"
   ]
  },
  {
   "cell_type": "markdown",
   "metadata": {},
   "source": [
    "The column names in the traffic files and vehicle codes described by the Vehicle_Encoding dictionary are mapped using the dictionary below."
   ]
  },
  {
   "cell_type": "code",
   "execution_count": 11,
   "metadata": {
    "collapsed": false
   },
   "outputs": [],
   "source": [
    "Volume_Accident_Coding = {\n",
    "'Buses & Coaches':  8,\n",
    "'Cars and taxis':   4,\n",
    "'Goods vehicles 2': 9,\n",
    "'Light\\nvans 1':    5,\n",
    "'Motorcycles':      3,\n",
    "'Pedal Cycles':     2\n",
    "}"
   ]
  },
  {
   "cell_type": "markdown",
   "metadata": {},
   "source": [
    "This cell puts everything together. The traffic volumes and deaths per vehicle type are assembled into a dataframe and the microcides are calculated. Deaths per billion kilometers is the same as microcides per 1,000 kilometers so a simple division is used to calculate the microcides. (Yay metric system)."
   ]
  },
  {
   "cell_type": "code",
   "execution_count": 12,
   "metadata": {
    "collapsed": false
   },
   "outputs": [],
   "source": [
    "Microcides = pd.DataFrame.from_dict(Ten_Year_Volume, orient = 'index')\n",
    "Microcides.columns = ['Traffic Volume']\n",
    "Microcides['Deaths'] = 0\n",
    "\n",
    "for k, v, in Volume_Accident_Coding.items():\n",
    "    Microcides = Microcides.set_value(k, 'Deaths', Caused_Fatalities[v])\n",
    "\n",
    "Microcides['Microcides'] = Microcides['Deaths']/Microcides['Traffic Volume']"
   ]
  },
  {
   "cell_type": "code",
   "execution_count": 13,
   "metadata": {
    "collapsed": false
   },
   "outputs": [
    {
     "data": {
      "text/html": [
       "<div>\n",
       "<table border=\"1\" class=\"dataframe\">\n",
       "  <thead>\n",
       "    <tr style=\"text-align: right;\">\n",
       "      <th></th>\n",
       "      <th>Traffic Volume</th>\n",
       "      <th>Deaths</th>\n",
       "      <th>Microcides</th>\n",
       "    </tr>\n",
       "  </thead>\n",
       "  <tbody>\n",
       "    <tr>\n",
       "      <th>Cars and taxis</th>\n",
       "      <td>3916.6</td>\n",
       "      <td>13267</td>\n",
       "      <td>3.387377</td>\n",
       "    </tr>\n",
       "    <tr>\n",
       "      <th>Light\\nvans 1</th>\n",
       "      <td>665.8</td>\n",
       "      <td>1526</td>\n",
       "      <td>2.291980</td>\n",
       "    </tr>\n",
       "    <tr>\n",
       "      <th>Motorcycles</th>\n",
       "      <td>48.6</td>\n",
       "      <td>363</td>\n",
       "      <td>7.469136</td>\n",
       "    </tr>\n",
       "    <tr>\n",
       "      <th>Buses &amp; Coaches</th>\n",
       "      <td>48.9</td>\n",
       "      <td>894</td>\n",
       "      <td>18.282209</td>\n",
       "    </tr>\n",
       "    <tr>\n",
       "      <th>Pedal Cycles</th>\n",
       "      <td>47.2</td>\n",
       "      <td>50</td>\n",
       "      <td>1.059322</td>\n",
       "    </tr>\n",
       "    <tr>\n",
       "      <th>Goods vehicles 2</th>\n",
       "      <td>269.8</td>\n",
       "      <td>3163</td>\n",
       "      <td>11.723499</td>\n",
       "    </tr>\n",
       "  </tbody>\n",
       "</table>\n",
       "</div>"
      ],
      "text/plain": [
       "                  Traffic Volume  Deaths  Microcides\n",
       "Cars and taxis            3916.6   13267    3.387377\n",
       "Light\\nvans 1              665.8    1526    2.291980\n",
       "Motorcycles                 48.6     363    7.469136\n",
       "Buses & Coaches             48.9     894   18.282209\n",
       "Pedal Cycles                47.2      50    1.059322\n",
       "Goods vehicles 2           269.8    3163   11.723499"
      ]
     },
     "execution_count": 13,
     "metadata": {},
     "output_type": "execute_result"
    }
   ],
   "source": [
    "Microcides"
   ]
  },
  {
   "cell_type": "markdown",
   "metadata": {
    "collapsed": false
   },
   "source": [
    "See the microcide exploration notebook for further exploration of this dataset and justification for the settings used."
   ]
  }
 ],
 "metadata": {
  "kernelspec": {
   "display_name": "Python 3",
   "language": "python",
   "name": "python3"
  },
  "language_info": {
   "codemirror_mode": {
    "name": "ipython",
    "version": 3
   },
   "file_extension": ".py",
   "mimetype": "text/x-python",
   "name": "python",
   "nbconvert_exporter": "python",
   "pygments_lexer": "ipython3",
   "version": "3.5.1"
  }
 },
 "nbformat": 4,
 "nbformat_minor": 0
}
